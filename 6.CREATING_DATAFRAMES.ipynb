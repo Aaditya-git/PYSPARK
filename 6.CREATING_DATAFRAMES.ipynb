{
 "cells": [
  {
   "cell_type": "markdown",
   "metadata": {
    "application/vnd.databricks.v1+cell": {
     "cellMetadata": {},
     "inputWidgets": {},
     "nuid": "930d2904-8c66-4f82-a6a2-65daeda1fcd6",
     "showTitle": true,
     "title": "HOW TO CREATE A DATAFRAME"
    }
   },
   "source": [
    "FUNDAMENTAL DATAFRAME OPERATIONS"
   ]
  },
  {
   "cell_type": "code",
   "execution_count": 0,
   "metadata": {
    "application/vnd.databricks.v1+cell": {
     "cellMetadata": {
      "byteLimit": 2048000,
      "rowLimit": 10000
     },
     "inputWidgets": {},
     "nuid": "37512f79-570d-48fe-96c5-cea3bcca210b",
     "showTitle": false,
     "title": ""
    }
   },
   "outputs": [
    {
     "output_type": "display_data",
     "data": {
      "text/html": [
       "\n",
       "            <div>\n",
       "                <p><b>SparkSession - hive</b></p>\n",
       "                \n",
       "        <div>\n",
       "            <p><b>SparkContext</b></p>\n",
       "\n",
       "            <p><a href=\"/?o=1209241429508292#setting/sparkui/1016-233919-2l48tuo/driver-8059862183086969879\">Spark UI</a></p>\n",
       "\n",
       "            <dl>\n",
       "              <dt>Version</dt>\n",
       "                <dd><code>v3.3.2</code></dd>\n",
       "              <dt>Master</dt>\n",
       "                <dd><code>local[8]</code></dd>\n",
       "              <dt>AppName</dt>\n",
       "                <dd><code>Databricks Shell</code></dd>\n",
       "            </dl>\n",
       "        </div>\n",
       "        \n",
       "            </div>\n",
       "        "
      ]
     },
     "metadata": {
      "application/vnd.databricks.v1+output": {
       "addedWidgets": {},
       "arguments": {},
       "data": "\n            <div>\n                <p><b>SparkSession - hive</b></p>\n                \n        <div>\n            <p><b>SparkContext</b></p>\n\n            <p><a href=\"/?o=1209241429508292#setting/sparkui/1016-233919-2l48tuo/driver-8059862183086969879\">Spark UI</a></p>\n\n            <dl>\n              <dt>Version</dt>\n                <dd><code>v3.3.2</code></dd>\n              <dt>Master</dt>\n                <dd><code>local[8]</code></dd>\n              <dt>AppName</dt>\n                <dd><code>Databricks Shell</code></dd>\n            </dl>\n        </div>\n        \n            </div>\n        ",
       "datasetInfos": [],
       "metadata": {},
       "removedWidgets": [],
       "textData": null,
       "type": "htmlSandbox"
      }
     },
     "output_type": "display_data"
    }
   ],
   "source": [
    "spark"
   ]
  },
  {
   "cell_type": "code",
   "execution_count": 0,
   "metadata": {
    "application/vnd.databricks.v1+cell": {
     "cellMetadata": {},
     "inputWidgets": {},
     "nuid": "1a074ea0-7368-44da-a4d1-006e1b73e703",
     "showTitle": true,
     "title": "IMPORT"
    }
   },
   "outputs": [],
   "source": [
    "from pyspark.sql.type import * "
   ]
  },
  {
   "cell_type": "code",
   "execution_count": 0,
   "metadata": {
    "application/vnd.databricks.v1+cell": {
     "cellMetadata": {
      "byteLimit": 2048000,
      "rowLimit": 10000
     },
     "inputWidgets": {},
     "nuid": "04f5bd05-fe7a-420a-8fba-92aeb51a7efb",
     "showTitle": true,
     "title": "CREATING DATAFRAME"
    }
   },
   "outputs": [],
   "source": [
    "'''\n",
    "Let us start by creating My_data where data of the table is stored in the form of LIST[tuple]. And each tuple value represents a column data.\n",
    "This means here in the below example we can say that the table consists of two columns!\n",
    "'''\n",
    "\n",
    "my_data =[(1,2),(2,3),(3,4),(4,5),(5,6)]"
   ]
  },
  {
   "cell_type": "code",
   "execution_count": 0,
   "metadata": {
    "application/vnd.databricks.v1+cell": {
     "cellMetadata": {
      "byteLimit": 2048000,
      "rowLimit": 10000
     },
     "inputWidgets": {},
     "nuid": "257c496c-6ded-4e74-b533-8fbb189155b8",
     "showTitle": false,
     "title": ""
    }
   },
   "outputs": [],
   "source": [
    "'''\n",
    "Let us define the columns now. Column names has to be in String format!\n",
    "'''\n",
    "\n",
    "my_column_data = ['id','salary']"
   ]
  },
  {
   "cell_type": "code",
   "execution_count": 0,
   "metadata": {
    "application/vnd.databricks.v1+cell": {
     "cellMetadata": {
      "byteLimit": 2048000,
      "rowLimit": 10000
     },
     "inputWidgets": {},
     "nuid": "cc140214-2a44-4602-971f-5c7fff7c5e17",
     "showTitle": false,
     "title": ""
    }
   },
   "outputs": [],
   "source": [
    "'''\n",
    "Now we will create a dataframe using above values and using createDataFrame module like below.\n",
    "createDataFrame takes two arguments, (1.Data) (2.schema_name)\n",
    "'''\n",
    "\n",
    "my_first_dataframe = spark.createDataFrame(data=my_data,schema=my_column_data)"
   ]
  },
  {
   "cell_type": "code",
   "execution_count": 0,
   "metadata": {
    "application/vnd.databricks.v1+cell": {
     "cellMetadata": {
      "byteLimit": 2048000,
      "rowLimit": 10000
     },
     "inputWidgets": {},
     "nuid": "d4201797-35bb-4d43-8f9a-67b26bf9e2b8",
     "showTitle": true,
     "title": "SHOW"
    }
   },
   "outputs": [
    {
     "output_type": "stream",
     "name": "stdout",
     "output_type": "stream",
     "text": [
      "+---+------+\n| id|salary|\n+---+------+\n|  1|     2|\n|  2|     3|\n|  3|     4|\n|  4|     5|\n|  5|     6|\n+---+------+\n\n"
     ]
    }
   ],
   "source": [
    "my_first_dataframe.show()"
   ]
  },
  {
   "cell_type": "code",
   "execution_count": 0,
   "metadata": {
    "application/vnd.databricks.v1+cell": {
     "cellMetadata": {},
     "inputWidgets": {},
     "nuid": "020549e4-07db-426b-b9f2-a212210f0f90",
     "showTitle": false,
     "title": ""
    }
   },
   "outputs": [],
   "source": []
  }
 ],
 "metadata": {
  "application/vnd.databricks.v1+notebook": {
   "dashboards": [],
   "environmentMetadata": null,
   "language": "python",
   "notebookMetadata": {
    "pythonIndentUnit": 4
   },
   "notebookName": "6.CREATING_DATAFRAMES",
   "widgets": {}
  }
 },
 "nbformat": 4,
 "nbformat_minor": 0
}
